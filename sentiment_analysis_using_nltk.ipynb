{
  "nbformat": 4,
  "nbformat_minor": 0,
  "metadata": {
    "colab": {
      "provenance": []
    },
    "kernelspec": {
      "name": "python3",
      "display_name": "Python 3"
    },
    "language_info": {
      "name": "python"
    }
  },
  "cells": [
    {
      "cell_type": "markdown",
      "source": [
        "**Using Vader_Lexicon**"
      ],
      "metadata": {
        "id": "84ar0knHlBsV"
      }
    },
    {
      "cell_type": "code",
      "source": [
        "import nltk\n",
        "from nltk.sentiment import SentimentIntensityAnalyzer\n",
        "nltk.download('vader_lexicon')"
      ],
      "metadata": {
        "colab": {
          "base_uri": "https://localhost:8080/"
        },
        "id": "D0JJ_1-8ZEMm",
        "outputId": "e40beea1-f4f8-47d9-ed91-6d5a5e0397cb"
      },
      "execution_count": null,
      "outputs": [
        {
          "output_type": "stream",
          "name": "stderr",
          "text": [
            "[nltk_data] Downloading package vader_lexicon to /root/nltk_data...\n"
          ]
        },
        {
          "output_type": "execute_result",
          "data": {
            "text/plain": [
              "True"
            ]
          },
          "metadata": {},
          "execution_count": 7
        }
      ]
    },
    {
      "cell_type": "code",
      "source": [
        "#initilize the nltk\n",
        "sia=SentimentIntensityAnalyzer()"
      ],
      "metadata": {
        "id": "szLV4bMlaw3b"
      },
      "execution_count": null,
      "outputs": []
    },
    {
      "cell_type": "code",
      "source": [
        "text=\"i didn't liked the coffee\"\n",
        "t1=sia.polarity_scores(text)\n",
        "print(t1)"
      ],
      "metadata": {
        "colab": {
          "base_uri": "https://localhost:8080/"
        },
        "id": "5HsvYFe-a982",
        "outputId": "f4fef47f-394e-4c6e-9527-a5a9e4e6fc17"
      },
      "execution_count": null,
      "outputs": [
        {
          "output_type": "stream",
          "name": "stdout",
          "text": [
            "{'neg': 0.437, 'neu': 0.563, 'pos': 0.0, 'compound': -0.3252}\n"
          ]
        }
      ]
    },
    {
      "cell_type": "markdown",
      "source": [
        "\n",
        "**Using Textblob**\n",
        "TextBlob is a simple library for processing textual data, which provides an easy-to-use API for common natural language processing (NLP) tasks including sentiment analysis."
      ],
      "metadata": {
        "id": "1ukmNaLqhnji"
      }
    },
    {
      "cell_type": "code",
      "source": [
        "from textblob import TextBlob\n",
        "\n",
        "def get_sentiment(text):\n",
        "    blob = TextBlob(text)\n",
        "    return blob.sentiment.polarity, blob.sentiment.subjectivity\n",
        "\n",
        "# Example usage\n",
        "new_statements = [\n",
        "    \"I am very happy with the service.\",\n",
        "    \"This is the worst experience ever.\",\n",
        "    \"It's okay, not great but not bad either.\"\n",
        "]\n",
        "\n",
        "for statement in new_statements:\n",
        "    polarity, subjectivity = get_sentiment(statement)\n",
        "    print(f\"Statement: {statement} | Polarity: {polarity} | Subjectivity: {subjectivity}\")\n"
      ],
      "metadata": {
        "colab": {
          "base_uri": "https://localhost:8080/"
        },
        "id": "W3xmTNSJkUge",
        "outputId": "920498e6-3e79-4415-d76a-88b848b540b3"
      },
      "execution_count": null,
      "outputs": [
        {
          "output_type": "stream",
          "name": "stdout",
          "text": [
            "Statement: I am very happy with the service. | Polarity: 1.0 | Subjectivity: 1.0\n",
            "Statement: This is the worst experience ever. | Polarity: -1.0 | Subjectivity: 1.0\n",
            "Statement: It's okay, not great but not bad either. | Polarity: 0.14999999999999997 | Subjectivity: 0.6388888888888888\n"
          ]
        }
      ]
    }
  ]
}